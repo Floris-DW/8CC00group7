{
 "cells": [
  {
   "cell_type": "code",
   "execution_count": null,
   "id": "initial_id",
   "metadata": {
    "collapsed": true
   },
   "outputs": [],
   "source": [
    "import numpy as np\n",
    "import pandas as pd\n",
    "import matplotlib.pyplot as plt\n",
    "\n",
    "from sklearn.decomposition import PCA\n",
    "from sklearn.preprocessing import minmax_scale, StandardScaler\n",
    "from scipy.stats import zscore\n",
    "\n",
    "from rdkit import Chem\n",
    "from rdkit.Chem import Descriptors\n",
    "from rdkit.Chem import AllChem\n",
    "from rdkit.Chem.Draw import IPythonConsole\n",
    "from rdkit.Chem import Draw\n",
    "from rdkit.Chem import MACCSkeys\n",
    "from rdkit.ML.Descriptors import MoleculeDescriptors\n"
   ]
  },
  {
   "cell_type": "code",
   "execution_count": null,
   "id": "51f9d5a0e10b0836",
   "metadata": {},
   "outputs": [],
   "source": [
    "# Load data\n",
    "tested = pd.read_csv(\"data/tested_molecules.csv\")\n",
    "tested.head()"
   ]
  },
  {
   "cell_type": "code",
   "execution_count": null,
   "id": "d18f035c6c96aab6",
   "metadata": {},
   "outputs": [],
   "source": [
    "smiles = tested['SMILES']\n",
    "mols = [Chem.MolFromSmiles(smi) for smi in smiles]\n",
    "Draw.MolsToGridImage(mols[0:8], molsPerRow=4, subImgSize=(400, 200))"
   ]
  },
  {
   "cell_type": "code",
   "execution_count": null,
   "id": "d5802ff781e89a4f",
   "metadata": {},
   "outputs": [],
   "source": [
    "MoleculeDescriptors.MolecularDescriptorCalculator(['fr_ketone']).GetDescriptorSummaries()"
   ]
  },
  {
   "cell_type": "code",
   "execution_count": null,
   "id": "7e2e149ef0b5d1d9",
   "metadata": {},
   "outputs": [],
   "source": [
    "# 1. Dataset preparation with RDKit, e.g., calculation of various types of molecular descriptors."
   ]
  },
  {
   "cell_type": "code",
   "execution_count": null,
   "id": "ca5b30ca846f1ab5",
   "metadata": {},
   "outputs": [],
   "source": [
    "# 2D Descriptors\n",
    "desc_list = [x[0] for x in Descriptors._descList]\n",
    "calc = MoleculeDescriptors.MolecularDescriptorCalculator(desc_list)\n",
    "rdkit_desc = [calc.CalcDescriptors(m) for m in mols]  # our rdkit descriptors: 1116 rows by 210 cols\n",
    "\n",
    "# Create 2d descriptor dataframe\n",
    "desc_names = calc.GetDescriptorNames()\n",
    "df_desc_2d = pd.DataFrame(rdkit_desc, index = smiles, columns=desc_names)\n",
    "df_desc_2d.head()"
   ]
  },
  {
   "cell_type": "code",
   "execution_count": null,
   "id": "adedc5cf830d7ef3",
   "metadata": {},
   "outputs": [],
   "source": [
    "# Binary (Morgan) ECFP6 fingerprints\n",
    "radius = 2  # 2 for similarity exploration, 3 for ML\n",
    "nBits = 1024  # 2048 is default, 1024 is also fine\n",
    "\n",
    "# Calculate binary ECFP6 fingerprints:\n",
    "fingerprints = [AllChem.GetMorganFingerprintAsBitVect(m , radius = radius, nBits = nBits) for m in mols]\n",
    "\n",
    "# Create fingerprint dataframe where each column represents a bit\n",
    "fprint_cols = [f'Bit_{i}' for i in range(1, nBits + 1)]\n",
    "fprint_bits = [list(x) for x in fingerprints]\n",
    "df_fprint = pd.DataFrame(fprint_bits, index = smiles, columns = fprint_cols)\n",
    "df_fprint.head()"
   ]
  },
  {
   "cell_type": "code",
   "execution_count": null,
   "id": "d209dfafba393f63",
   "metadata": {},
   "outputs": [],
   "source": [
    "# MACCS keys\n",
    "\n",
    "maccs_keys = np.array([MACCSkeys.GenMACCSKeys(m) for m in mols])\n",
    "col_name = [f'feature_{i}' for i in range(1, len(maccs_keys[0]) + 1)]\n",
    "# Create MACCS dataframe where each column corresponds to a MACCS feature (structural feature)\n",
    "df_maccs = pd.DataFrame(data = maccs_keys, index = smiles, columns = col_name)\n",
    "\n",
    "df_maccs.head()"
   ]
  },
  {
   "cell_type": "code",
   "execution_count": null,
   "id": "c05327156fb773f8",
   "metadata": {},
   "outputs": [],
   "source": [
    "# 2. Exploratory data analysis, outlier analysis, and descriptor selection."
   ]
  },
  {
   "cell_type": "code",
   "execution_count": null,
   "id": "a85606513babdb24",
   "metadata": {},
   "outputs": [],
   "source": [
    "def find_corr_cols(df, threshold):\n",
    "    # Find column pairs for which correlation > threshold\n",
    "    corr_ma = df.corr()  # correlation matrix; shape: (210, 210)\n",
    "    col_corr = set()  # set of tuples containing column names for which corr > threshold\n",
    "    for i in range(0, len(corr_ma.columns)):\n",
    "        for j in range(0, i):\n",
    "            if corr_ma.iloc[i, j] >= threshold:\n",
    "                col1_name, col2_name = corr_ma.columns[i], corr_ma.columns[j]\n",
    "                if col1_name != col2_name:\n",
    "                    col_corr.add((col1_name, col2_name))\n",
    "    return col_corr\n",
    "\n",
    "def make_corr_dict(col_corr):\n",
    "    # Make dictionary with as key the column name and as value the number of times the key is in a highly correlated pair.\n",
    "    d = {}\n",
    "    for (i, j) in col_corr:\n",
    "        if i not in d.keys():\n",
    "            d[i] = 1\n",
    "        else:\n",
    "            d[i] += 1\n",
    "        if j not in d.keys():\n",
    "            d[j] = 1\n",
    "        else:\n",
    "            d[j] += 1\n",
    "    # Sort dictionary keys in descending value order\n",
    "    d = dict(sorted(d.items(), key=lambda item: item[1])[::-1])\n",
    "    return d\n"
   ]
  },
  {
   "cell_type": "code",
   "execution_count": null,
   "id": "a412d132295fbaff",
   "metadata": {},
   "outputs": [],
   "source": [
    "# Find highly correlated variables\n",
    "\n",
    "# 2D Descriptors\n",
    "d_corr_desc_2d = make_corr_dict(find_corr_cols(df_desc_2d, 0.95))\n",
    "print(list(d_corr_desc_2d.keys())[0:5])  # print top 5 highly correlated variables\n",
    "\n",
    "# Binary fingerprints\n",
    "d_corr_fprint = make_corr_dict(find_corr_cols(df_fprint, 0.95))\n",
    "print(list(d_corr_fprint.keys())[0:5])\n",
    "\n",
    "# MACCS Keys\n",
    "d_corr_maccs = make_corr_dict(find_corr_cols(df_maccs, 0.95))\n",
    "print(list(d_corr_maccs.keys())[0:5])"
   ]
  },
  {
   "cell_type": "markdown",
   "id": "ca075bad",
   "metadata": {},
   "source": [
    "### Cleaning 2D descriptor data"
   ]
  },
  {
   "cell_type": "code",
   "execution_count": null,
   "id": "052e445c",
   "metadata": {},
   "outputs": [],
   "source": [
    "df = df_desc_2d.copy()\n",
    "single_value_columns = [col for col in df.columns if len(set(df[col])) == 1]\n",
    "df.drop(single_value_columns, axis=1, inplace=True)\n",
    "\n",
    "# Create correlation matrix\n",
    "corr_matrix = df.corr().abs()\n",
    "# Select upper triangle of correlation matrix\n",
    "upper = corr_matrix.where(np.triu(np.ones(corr_matrix.shape), k=1).astype(bool))\n",
    "# Find features with correlation greater than threshold\n",
    "threshold = 0.8\n",
    "to_drop = [column for column in upper.columns if any(upper[column] > threshold)]\n",
    "# Drop features \n",
    "df.drop(to_drop, axis=1, inplace=True)\n",
    "# Show changes to columns\n",
    "print(f\" Dropped {len(single_value_columns)} single value columns\\n\",\n",
    "      f\"Dropped {len(to_drop)} columns of higher than {threshold} correlation\\n\",\n",
    "      f\"Reduced data by {(len(df_desc_2d.columns) - len(df.columns)) / len(df_desc_2d.columns)*100:.2f}% to {len(df.columns)} columns\")\n",
    "# Show old and new correlation matrix\n",
    "plt.matshow(df_desc_2d.corr().abs())\n",
    "plt.matshow(df.corr().abs())\n",
    "plt.show()\n",
    "# Copy cleaned df for saving\n",
    "df_cleaned_2d = df.copy()"
   ]
  },
  {
   "cell_type": "markdown",
   "id": "b1304724",
   "metadata": {},
   "source": [
    "### Cleaning MACCS data"
   ]
  },
  {
   "cell_type": "code",
   "execution_count": null,
   "id": "abbb1ca1",
   "metadata": {},
   "outputs": [],
   "source": [
    "df = df_maccs.copy()\n",
    "single_value_columns = [col for col in df.columns if len(set(df[col])) == 1]\n",
    "df.drop(single_value_columns, axis=1, inplace=True)\n",
    "\n",
    "# Create correlation matrix\n",
    "corr_matrix = df.corr().abs()\n",
    "# Select upper triangle of correlation matrix\n",
    "upper = corr_matrix.where(np.triu(np.ones(corr_matrix.shape), k=1).astype(bool))\n",
    "# Find features with correlation greater than threshold\n",
    "threshold = 0.8\n",
    "to_drop = [column for column in upper.columns if any(upper[column] > threshold)]\n",
    "# Drop features \n",
    "df.drop(to_drop, axis=1, inplace=True)\n",
    "# Show changes to columns\n",
    "print(f\" Dropped {len(single_value_columns)} single value columns\\n\",\n",
    "      f\"Dropped {len(to_drop)} columns of higher than {threshold} correlation\\n\",\n",
    "      f\"Reduced data by {(len(df_maccs.columns) - len(df.columns)) / len(df_maccs.columns)*100:.2f}% to {len(df.columns)} columns\")\n",
    "# Show old and new correlation matrix\n",
    "plt.matshow(df_maccs.corr().abs())\n",
    "plt.matshow(df.corr().abs())\n",
    "plt.show()\n",
    "# Copy cleaned df for saving\n",
    "df_cleaned_maccs = df.copy()"
   ]
  },
  {
   "cell_type": "markdown",
   "id": "30d6957f",
   "metadata": {},
   "source": [
    "### Cleaning Fingerprint data"
   ]
  },
  {
   "cell_type": "code",
   "execution_count": null,
   "id": "3141345f",
   "metadata": {},
   "outputs": [],
   "source": [
    "df = df_fprint.copy()\n",
    "single_value_columns = [col for col in df.columns if len(set(df[col])) == 1]\n",
    "df.drop(single_value_columns, axis=1, inplace=True)\n",
    "\n",
    "# Create correlation matrix\n",
    "corr_matrix = df.corr().abs()\n",
    "# Select upper triangle of correlation matrix\n",
    "upper = corr_matrix.where(np.triu(np.ones(corr_matrix.shape), k=1).astype(bool))\n",
    "# Find features with correlation greater than threshold\n",
    "threshold = 0.8\n",
    "to_drop = [column for column in upper.columns if any(upper[column] > threshold)]\n",
    "# Drop features \n",
    "df.drop(to_drop, axis=1, inplace=True)\n",
    "# Show changes to columns\n",
    "print(f\" Dropped {len(single_value_columns)} single value columns\\n\",\n",
    "      f\"Dropped {len(to_drop)} columns of higher than {threshold} correlation\\n\",\n",
    "      f\"Reduced data by {(len(df_fprint.columns) - len(df.columns)) / len(df_fprint.columns)*100:.2f}% to {len(df.columns)} columns\")\n",
    "# Show old and new correlation matrix\n",
    "plt.matshow(df_fprint.corr().abs())\n",
    "plt.matshow(df.corr().abs())\n",
    "plt.show()\n",
    "# Copy cleaned df for saving\n",
    "df_cleaned_fprint = df.copy()"
   ]
  },
  {
   "cell_type": "markdown",
   "id": "f71a7f7c",
   "metadata": {},
   "source": [
    "### Saving cleaned data"
   ]
  },
  {
   "cell_type": "code",
   "execution_count": null,
   "id": "33c09d51",
   "metadata": {},
   "outputs": [],
   "source": [
    "df_cleaned_2d.to_csv(\"data/cleaned_2d_descriptors.csv\")\n",
    "df_cleaned_maccs.to_csv(\"data/cleaned_maccs_keys.csv\")\n",
    "df_cleaned_fprint.to_csv(\"data/cleaned_fingerprints.csv\")"
   ]
  },
  {
   "cell_type": "code",
   "execution_count": null,
   "id": "7f402ea9c61c294",
   "metadata": {},
   "outputs": [],
   "source": [
    "# Outlier analysis\n",
    "\n",
    "from scipy.stats import zscore\n",
    "z_scores = zscore(df_desc_2d)\n",
    "np.median(z_scores, axis = 0)\n",
    "print(np.mean(z_scores, axis = 0).iloc[0])\n",
    "z_scores.head(100)"
   ]
  },
  {
   "cell_type": "code",
   "execution_count": null,
   "id": "9af915acf06aafb9",
   "metadata": {},
   "outputs": [],
   "source": [
    "# 3. Identification of structure-activity relationships, e.g., using ML concepts or insights from EDA."
   ]
  },
  {
   "cell_type": "code",
   "execution_count": null,
   "id": "17ccc2318912c1e3",
   "metadata": {},
   "outputs": [],
   "source": []
  }
 ],
 "metadata": {
  "kernelspec": {
   "display_name": "Python 3",
   "language": "python",
   "name": "python3"
  },
  "language_info": {
   "codemirror_mode": {
    "name": "ipython",
    "version": 3
   },
   "file_extension": ".py",
   "mimetype": "text/x-python",
   "name": "python",
   "nbconvert_exporter": "python",
   "pygments_lexer": "ipython3",
   "version": "3.11.4"
  }
 },
 "nbformat": 4,
 "nbformat_minor": 5
}
