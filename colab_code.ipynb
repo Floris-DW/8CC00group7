{
 "cells": [
  {
   "cell_type": "code",
   "execution_count": null,
   "id": "dbe8aeba",
   "metadata": {},
   "outputs": [],
   "source": [
    "# Imports for loading data\n",
    "from google.colab import drive\n",
    "import pandas as pd\n",
    "\n",
    "# Load data\n",
    "drive.mount('/content/gdrive')\n",
    "df_2d_desc = pd.read_csv(\"gdrive/MyDrive/8cc00_group7_data/cleaned_2d_descriptors.csv\")\n",
    "print(df_2d_desc)"
   ]
  }
 ],
 "metadata": {
  "kernelspec": {
   "display_name": "Python 3 (ipykernel)",
   "language": "python",
   "name": "python3"
  },
  "language_info": {
   "codemirror_mode": {
    "name": "ipython",
    "version": 3
   },
   "file_extension": ".py",
   "mimetype": "text/x-python",
   "name": "python",
   "nbconvert_exporter": "python",
   "pygments_lexer": "ipython3",
   "version": "3.8.16"
  }
 },
 "nbformat": 4,
 "nbformat_minor": 5
}
