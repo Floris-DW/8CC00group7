{
 "cells": [
  {
   "cell_type": "code",
   "id": "initial_id",
   "metadata": {
    "collapsed": true
   },
   "source": [
    "import numpy as np\n",
    "import pandas as pd\n",
    "from sklearn.decomposition import PCA\n",
    "from sklearn.preprocessing import minmax_scale, StandardScaler\n",
    "from rdkit import Chem\n",
    "from rdkit.Chem import Descriptors\n",
    "from rdkit.Chem import AllChem\n",
    "from rdkit.Chem.Draw import IPythonConsole\n",
    "from rdkit.Chem import Draw\n",
    "from rdkit.Chem import MACCSkeys\n",
    "from rdkit.ML.Descriptors import MoleculeDescriptors\n",
    "from scipy.stats import zscore"
   ],
   "outputs": [],
   "execution_count": null
  },
  {
   "metadata": {},
   "cell_type": "code",
   "source": [
    "# Load data\n",
    "tested = pd.read_csv(\"data/tested_molecules.csv\")\n",
    "tested.head()"
   ],
   "id": "51f9d5a0e10b0836",
   "outputs": [],
   "execution_count": null
  },
  {
   "metadata": {},
   "cell_type": "code",
   "source": [
    "smiles = tested['SMILES']\n",
    "mols = [Chem.MolFromSmiles(smi) for smi in smiles]\n",
    "Draw.MolsToGridImage(mols[0:8], molsPerRow=4, subImgSize=(400, 200))"
   ],
   "id": "d18f035c6c96aab6",
   "outputs": [],
   "execution_count": null
  },
  {
   "metadata": {},
   "cell_type": "code",
   "source": "MoleculeDescriptors.MolecularDescriptorCalculator(['fr_ketone']).GetDescriptorSummaries()",
   "id": "d5802ff781e89a4f",
   "outputs": [],
   "execution_count": null
  },
  {
   "metadata": {},
   "cell_type": "code",
   "source": "# 1. Dataset preparation with RDKit, e.g., calculation of various types of molecular descriptors.",
   "id": "7e2e149ef0b5d1d9",
   "outputs": [],
   "execution_count": null
  },
  {
   "metadata": {},
   "cell_type": "code",
   "source": [
    "# 2D Descriptors\n",
    "desc_list = [x[0] for x in Descriptors._descList]\n",
    "calc = MoleculeDescriptors.MolecularDescriptorCalculator(desc_list)\n",
    "rdkit_desc = [calc.CalcDescriptors(m) for m in mols]  # our rdkit descriptors: 1116 rows by 210 cols\n",
    "\n",
    "# Create 2d descriptor dataframe\n",
    "desc_names = calc.GetDescriptorNames()\n",
    "df_desc_2d = pd.DataFrame(rdkit_desc, index = smiles, columns=desc_names)\n",
    "df_desc_2d.head()"
   ],
   "id": "ca5b30ca846f1ab5",
   "outputs": [],
   "execution_count": null
  },
  {
   "metadata": {},
   "cell_type": "code",
   "source": [
    "# Binary (Morgan) ECFP6 fingerprints\n",
    "radius = 2  # 2 for similarity exploration, 3 for ML\n",
    "nBits = 1024  # 2048 is default, 1024 is also fine\n",
    "\n",
    "# Calculate binary ECFP6 fingerprints:\n",
    "fingerprints = [AllChem.GetMorganFingerprintAsBitVect(m , radius = radius, nBits = nBits) for m in mols]\n",
    "\n",
    "# Create fingerprint dataframe where each column represents a bit\n",
    "fprint_cols = [f'Bit_{i}' for i in range(1, nBits + 1)]\n",
    "fprint_bits = [list(x) for x in fingerprints]\n",
    "df_fprint = pd.DataFrame(fprint_bits, index = smiles, columns = fprint_cols)\n",
    "df_fprint.head()"
   ],
   "id": "adedc5cf830d7ef3",
   "outputs": [],
   "execution_count": null
  },
  {
   "metadata": {},
   "cell_type": "code",
   "source": [
    "# MACCS keys\n",
    "\n",
    "maccs_keys = np.array([MACCSkeys.GenMACCSKeys(m) for m in mols])\n",
    "col_name = [f'feature_{i}' for i in range(1, len(maccs_keys[0]) + 1)]\n",
    "# Create MACCS dataframe where each column corresponds to a MACCS feature (structural feature)\n",
    "df_maccs = pd.DataFrame(data = maccs_keys, index = smiles, columns = col_name)\n",
    "\n",
    "df_maccs.head()"
   ],
   "id": "d209dfafba393f63",
   "outputs": [],
   "execution_count": null
  },
  {
   "metadata": {},
   "cell_type": "code",
   "source": "# 2. Exploratory data analysis, outlier analysis, and descriptor selection.",
   "id": "c05327156fb773f8",
   "outputs": [],
   "execution_count": null
  },
  {
   "metadata": {},
   "cell_type": "code",
   "source": [
    "def find_corr_cols(df, threshold):\n",
    "    # Find column pairs for which correlation > threshold\n",
    "    corr_ma = df.corr()  # correlation matrix; shape: (210, 210)\n",
    "    col_corr = set()  # set of tuples containing column names for which corr > threshold\n",
    "    for i in range(0, len(corr_ma.columns)):\n",
    "        for j in range(0, i):\n",
    "            if corr_ma.iloc[i, j] >= threshold:\n",
    "                col1_name, col2_name = corr_ma.columns[i], corr_ma.columns[j]\n",
    "                if col1_name != col2_name:\n",
    "                    col_corr.add((col1_name, col2_name))\n",
    "    return col_corr\n",
    "\n",
    "def make_corr_dict(col_corr):\n",
    "    # Make dictionary with as key the column name and as value the number of times the key is in a highly correlated pair.\n",
    "    d = {}\n",
    "    for (i, j) in col_corr:\n",
    "        if i not in d.keys():\n",
    "            d[i] = 1\n",
    "        else:\n",
    "            d[i] += 1\n",
    "        if j not in d.keys():\n",
    "            d[j] = 1\n",
    "        else:\n",
    "            d[j] += 1\n",
    "    # Sort dictionary keys in descending value order\n",
    "    d = dict(sorted(d.items(), key=lambda item: item[1])[::-1])\n",
    "    return d\n"
   ],
   "id": "a85606513babdb24",
   "outputs": [],
   "execution_count": null
  },
  {
   "metadata": {},
   "cell_type": "code",
   "source": [
    "# Find highly correlated variables\n",
    "\n",
    "# 2D Descriptors\n",
    "d_corr_desc_2d = make_corr_dict(find_corr_cols(df_desc_2d, 0.95))\n",
    "print(list(d_corr_desc_2d.keys())[0:5])  # print top 5 highly correlated variables\n",
    "\n",
    "# Binary fingerprints\n",
    "d_corr_fprint = make_corr_dict(find_corr_cols(df_fprint, 0.95))\n",
    "print(list(d_corr_fprint.keys())[0:5])\n",
    "\n",
    "# MACCS Keys\n",
    "d_corr_maccs = make_corr_dict(find_corr_cols(df_maccs, 0.95))\n",
    "print(list(d_corr_maccs.keys())[0:5])"
   ],
   "id": "a412d132295fbaff",
   "outputs": [],
   "execution_count": null
  },
  {
   "metadata": {},
   "cell_type": "code",
   "source": [
    "# Outlier analysis\n",
    "\n",
    "from scipy.stats import zscore\n",
    "z_scores = zscore(df_desc_2d)\n",
    "np.median(z_scores, axis = 0)\n",
    "print(np.mean(z_scores, axis = 0).iloc[0])\n",
    "z_scores.head(100)"
   ],
   "id": "7f402ea9c61c294",
   "outputs": [],
   "execution_count": null
  },
  {
   "metadata": {},
   "cell_type": "code",
   "source": "# 3. Identification of structure-activity relationships, e.g., using ML concepts or insights from EDA.",
   "id": "9af915acf06aafb9",
   "outputs": [],
   "execution_count": null
  },
  {
   "metadata": {},
   "cell_type": "code",
   "source": "",
   "id": "17ccc2318912c1e3",
   "outputs": [],
   "execution_count": null
  }
 ],
 "metadata": {
  "kernelspec": {
   "display_name": "Python 3",
   "language": "python",
   "name": "python3"
  },
  "language_info": {
   "codemirror_mode": {
    "name": "ipython",
    "version": 2
   },
   "file_extension": ".py",
   "mimetype": "text/x-python",
   "name": "python",
   "nbconvert_exporter": "python",
   "pygments_lexer": "ipython2",
   "version": "2.7.6"
  }
 },
 "nbformat": 4,
 "nbformat_minor": 5
}
